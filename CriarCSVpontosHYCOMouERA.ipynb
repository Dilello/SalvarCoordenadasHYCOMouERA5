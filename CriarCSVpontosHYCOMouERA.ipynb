{
 "cells": [
  {
   "cell_type": "code",
   "execution_count": 95,
   "id": "dc6157c6-ef6f-49b2-9fd1-09e57007934a",
   "metadata": {},
   "outputs": [
    {
     "name": "stdout",
     "output_type": "stream",
     "text": [
      "dict_keys(['surf_el', 'time', 'lat', 'lon'])\n",
      "(101,)\n",
      "(51,)\n",
      "[(-21.0, -41.0400390625), (-20.959999084472656, -41.0400390625), (-20.920000076293945, -41.0400390625), (-20.8799991607666, -41.0400390625), (-20.84000015258789, -41.0400390625), (-20.799999237060547, -41.0400390625), (-20.760000228881836, -41.0400390625), (-20.719999313354492, -41.0400390625), (-20.68000030517578, -41.0400390625), (-20.639999389648438, -41.0400390625)]\n"
     ]
    }
   ],
   "source": [
    "import numpy as np\n",
    "from netCDF4 import Dataset\n",
    "import csv\n",
    "\n",
    "arquivo_nc = 'g:\\\\Drives compartilhados\\\\Rio_Doce_LDSC\\\\3_Dados\\\\Dados_modelados\\\\HY\\\\HNCODA_GLBy008_SSH_2023-06-01.nc'\n",
    "dataset = Dataset(arquivo_nc, 'r')\n",
    "\n",
    "# Verificar quais variáveis estão presentes no arquivo\n",
    "print(dataset.variables.keys())\n",
    "\n",
    "# Extrair as variáveis de latitude e longitude\n",
    "latitudes = dataset.variables['lat'][:]  # Ajuste o nome da variável conforme o arquivo\n",
    "longitudes = dataset.variables['lon'][:]  # Ajuste o nome da variável conforme o arquivo\n",
    "\n",
    "# Verificar as dimensões das variáveis de latitude e longitude\n",
    "print(latitudes.shape)\n",
    "print(longitudes.shape)\n",
    "\n",
    "# Criar a lista de pontos (latitude, longitude) para todo o grid\n",
    "# Se latitudes e longitudes forem 2D, use meshgrid para gerar todos os pontos\n",
    "lat_grid, lon_grid = np.meshgrid(latitudes, longitudes-360)\n",
    "\n",
    "# Converter o grid em uma lista de tuplas\n",
    "pontos = list(zip(lat_grid.flatten(), lon_grid.flatten()))\n",
    "\n",
    "# Exibir as primeiras coordenadas (para verificar)\n",
    "print(pontos[:10])  # Mostrar os 10 primeiros pontos\n",
    "\n",
    "# Fechar o arquivo após a leitura\n",
    "dataset.close\n",
    "\n",
    "# Caminho para o arquivo CSV de saída\n",
    "arquivo_csv = 'g:\\\\Drives compartilhados\\\\Rio_Doce_LDSC\\\\3_Dados\\\\Dados_modelados\\\\HY\\\\pontos_lat_lon.csv'\n",
    "\n",
    "# Salvar a lista de pontos em um arquivo CSV\n",
    "with open(arquivo_csv, mode='w', newline='') as file:\n",
    "    writer = csv.writer(file)\n",
    "    # Escrever o cabeçalho\n",
    "    writer.writerow(['Latitude', 'Longitude'])\n",
    "    # Escrever os pontos (tuplas de latitude e longitude)\n",
    "    writer.writerows(pontos)\n",
    "\n",
    "print(f\"Arquivo CSV '{arquivo_csv}' criado com sucesso!\")"
   ]
  }
 ],
 "metadata": {
  "kernelspec": {
   "display_name": "Python 3 (ipykernel)",
   "language": "python",
   "name": "python3"
  },
  "language_info": {
   "codemirror_mode": {
    "name": "ipython",
    "version": 3
   },
   "file_extension": ".py",
   "mimetype": "text/x-python",
   "name": "python",
   "nbconvert_exporter": "python",
   "pygments_lexer": "ipython3",
   "version": "3.12.7"
  }
 },
 "nbformat": 4,
 "nbformat_minor": 5
}
